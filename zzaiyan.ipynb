{
 "cells": [
  {
   "cell_type": "markdown",
   "metadata": {},
   "source": [
    "### 调试数据的草稿"
   ]
  },
  {
   "cell_type": "code",
   "execution_count": 1,
   "metadata": {
    "ExecuteTime": {
     "end_time": "2023-07-18T20:03:07.938689500Z",
     "start_time": "2023-07-18T20:03:05.463241400Z"
    },
    "collapsed": false
   },
   "outputs": [],
   "source": [
    "from  dataLoader import *\n",
    "from shenzhenDataset import *\n",
    "import pandas as pd\n",
    "import numpy as np\n",
    "from tqdm import tqdm"
   ]
  },
  {
   "cell_type": "code",
   "execution_count": 2,
   "metadata": {
    "ExecuteTime": {
     "end_time": "2023-07-18T08:54:45.912831900Z",
     "start_time": "2023-07-18T08:54:45.745454100Z"
    },
    "collapsed": true
   },
   "outputs": [
    {
     "name": "stdout",
     "output_type": "stream",
     "text": [
      "x_train shape is (6055, 1, 1, 150), x_test shape is (1524, 1, 1, 150)\n",
      "y_train shape is (6055, 9), y_test shape is (1524, 9)\n"
     ]
    }
   ],
   "source": [
    "x = unimib_load_dataset()"
   ]
  },
  {
   "cell_type": "code",
   "execution_count": 3,
   "metadata": {
    "ExecuteTime": {
     "end_time": "2023-07-18T08:54:46.432722200Z",
     "start_time": "2023-07-18T08:54:46.410723500Z"
    },
    "collapsed": false
   },
   "outputs": [
    {
     "data": {
      "text/plain": [
       "array([[[[9.25274045, 8.60111606, 7.94187478, ..., 9.18787481,\n",
       "          9.17632538, 9.12367525]]],\n",
       "\n",
       "\n",
       "       [[[8.48176772, 8.37970617, 8.50029873, ..., 8.94645706,\n",
       "          8.95710963, 8.94679036]]],\n",
       "\n",
       "\n",
       "       [[[8.63925573, 8.70672724, 8.5753431 , ..., 9.53327861,\n",
       "          9.53680204, 9.3398423 ]]],\n",
       "\n",
       "\n",
       "       ...,\n",
       "\n",
       "\n",
       "       [[[9.07265608, 9.05663397, 9.0944033 , ..., 9.1199903 ,\n",
       "          9.0805523 , 9.09936177]]],\n",
       "\n",
       "\n",
       "       [[[9.1343688 , 9.09288571, 9.11314443, ..., 9.13421959,\n",
       "          9.13285095, 9.04936111]]],\n",
       "\n",
       "\n",
       "       [[[9.1560194 , 9.11126954, 9.07506116, ..., 9.20394567,\n",
       "          9.12918919, 9.14560825]]]])"
      ]
     },
     "execution_count": 3,
     "metadata": {},
     "output_type": "execute_result"
    }
   ],
   "source": [
    "x.x_test"
   ]
  },
  {
   "cell_type": "code",
   "execution_count": 4,
   "metadata": {
    "ExecuteTime": {
     "end_time": "2023-07-18T08:54:46.937989400Z",
     "start_time": "2023-07-18T08:54:46.926964300Z"
    },
    "collapsed": false
   },
   "outputs": [],
   "source": [
    "from LoadRealRunningJumping import *\n",
    "from torch.utils import data"
   ]
  },
  {
   "cell_type": "code",
   "execution_count": 5,
   "metadata": {
    "ExecuteTime": {
     "end_time": "2023-07-18T08:54:48.311717200Z",
     "start_time": "2023-07-18T08:54:47.387788Z"
    },
    "collapsed": false
   },
   "outputs": [
    {
     "name": "stdout",
     "output_type": "stream",
     "text": [
      "data shape is (1200, 3, 1, 150), label shape is (1200, 1)\n",
      "Jumping label is 1, has 600 samples, Running label is 0, has 600 samples\n"
     ]
    }
   ],
   "source": [
    "train_set = Running_Or_Jumping(incl_xyz_accel = True, incl_rms_accel = False, is_normalize = True, data_mode = 'Train')"
   ]
  },
  {
   "cell_type": "code",
   "execution_count": 6,
   "metadata": {
    "ExecuteTime": {
     "end_time": "2023-07-18T08:54:48.354857800Z",
     "start_time": "2023-07-18T08:54:48.312709300Z"
    },
    "collapsed": false
   },
   "outputs": [],
   "source": [
    "from scipy import io"
   ]
  },
  {
   "cell_type": "code",
   "execution_count": 7,
   "metadata": {
    "ExecuteTime": {
     "end_time": "2023-07-18T08:54:48.658978600Z",
     "start_time": "2023-07-18T08:54:48.525498800Z"
    },
    "collapsed": false
   },
   "outputs": [],
   "source": [
    "path_in = './UniMiB-SHAR/data'\n",
    "adl_data = io.loadmat(path_in + '/adl_data.mat')['adl_data']\n",
    "adl_names = io.loadmat(path_in + '/adl_names.mat', chars_as_strings=True)['adl_names']\n",
    "adl_labels = io.loadmat(path_in + '/adl_labels.mat')['adl_labels']"
   ]
  },
  {
   "cell_type": "code",
   "execution_count": 8,
   "metadata": {
    "ExecuteTime": {
     "end_time": "2023-07-18T08:54:49.124045800Z",
     "start_time": "2023-07-18T08:54:49.103516100Z"
    },
    "collapsed": false
   },
   "outputs": [
    {
     "data": {
      "text/plain": [
       "((7579, 453), (9, 1), (7579, 3))"
      ]
     },
     "execution_count": 8,
     "metadata": {},
     "output_type": "execute_result"
    }
   ],
   "source": [
    "adl_data.shape, adl_names.shape, adl_labels.shape"
   ]
  },
  {
   "cell_type": "code",
   "execution_count": 9,
   "metadata": {
    "ExecuteTime": {
     "end_time": "2023-07-18T08:54:49.641529200Z",
     "start_time": "2023-07-18T08:54:49.616546600Z"
    },
    "collapsed": false
   },
   "outputs": [
    {
     "data": {
      "text/plain": [
       "(7579, 151, 3)"
      ]
     },
     "execution_count": 9,
     "metadata": {},
     "output_type": "execute_result"
    }
   ],
   "source": [
    "#Reshape data and compute total (rms) acceleration\n",
    "num_samples = 151\n",
    "#UniMiB SHAR has fixed size of 453 which is 151 accelX, 151 accely, 151 accelz\n",
    "adl_data = np.reshape(adl_data,(-1,num_samples,3), order='F')\n",
    "#uses Fortran order\n",
    "adl_data.shape"
   ]
  },
  {
   "cell_type": "code",
   "execution_count": 10,
   "metadata": {
    "ExecuteTime": {
     "end_time": "2023-07-18T08:54:50.161750800Z",
     "start_time": "2023-07-18T08:54:50.146735400Z"
    },
    "collapsed": false
   },
   "outputs": [
    {
     "data": {
      "text/plain": [
       "(600, 151, 3)"
      ]
     },
     "execution_count": 10,
     "metadata": {},
     "output_type": "execute_result"
    }
   ],
   "source": [
    "adl_data[:600].shape"
   ]
  },
  {
   "cell_type": "code",
   "execution_count": 11,
   "metadata": {
    "ExecuteTime": {
     "end_time": "2023-07-18T08:54:50.617568700Z",
     "start_time": "2023-07-18T08:54:50.584976100Z"
    },
    "collapsed": false
   },
   "outputs": [
    {
     "data": {
      "text/plain": [
       "(9, 1)"
      ]
     },
     "execution_count": 11,
     "metadata": {},
     "output_type": "execute_result"
    }
   ],
   "source": [
    "adl_names.shape"
   ]
  },
  {
   "cell_type": "code",
   "execution_count": 12,
   "metadata": {
    "ExecuteTime": {
     "end_time": "2023-07-18T08:54:51.069930600Z",
     "start_time": "2023-07-18T08:54:51.044913400Z"
    },
    "collapsed": false
   },
   "outputs": [
    {
     "data": {
      "text/plain": [
       "(7579, 3)"
      ]
     },
     "execution_count": 12,
     "metadata": {},
     "output_type": "execute_result"
    }
   ],
   "source": [
    "adl_labels.shape"
   ]
  },
  {
   "cell_type": "code",
   "execution_count": 16,
   "metadata": {
    "ExecuteTime": {
     "end_time": "2023-07-19T07:48:28.441520700Z",
     "start_time": "2023-07-19T07:48:26.719300200Z"
    },
    "collapsed": false
   },
   "outputs": [
    {
     "name": "stdout",
     "output_type": "stream",
     "text": [
      "x_train shape is (6055, 3, 1, 150), x_test shape is (1524, 3, 1, 150)\n",
      "y_train shape is (6055,), y_test shape is (1524,)\n",
      "return single class data and labels, class is Running\n",
      "train_data shape is (1572, 3, 1, 150), test_data shape is (413, 3, 1, 150)\n",
      "train label shape is (1572,), test data shape is (413,)\n",
      "\n",
      "x_train shape is (6055, 3, 1, 150), x_test shape is (1524, 3, 1, 150)\n",
      "y_train shape is (6055,), y_test shape is (1524,)\n",
      "return single class data and labels, class is Running\n",
      "train_data shape is (1572, 3, 1, 150), test_data shape is (413, 3, 1, 150)\n",
      "train label shape is (1572,), test data shape is (413,)\n"
     ]
    }
   ],
   "source": [
    "train_uni = unimib_load_dataset(incl_xyz_accel = True, incl_rms_accel = False, incl_val_group = False, is_normalize = True, one_hot_encode = False, data_mode = 'Train', single_class = True, class_name = 'Running', verbose=False)\n",
    "print()\n",
    "test_uni = unimib_load_dataset(incl_xyz_accel = True, incl_rms_accel = False, incl_val_group = False, is_normalize = True, one_hot_encode = False, data_mode = 'Test', single_class = True, class_name = 'Running')"
   ]
  },
  {
   "cell_type": "code",
   "execution_count": 3,
   "metadata": {
    "ExecuteTime": {
     "end_time": "2023-07-18T20:03:19.769841300Z",
     "start_time": "2023-07-18T20:03:14.085741500Z"
    },
    "collapsed": false
   },
   "outputs": [],
   "source": [
    "sz_train = shenzhen_dataset(data_size=1000, data_mode='Train',verbose=False)\n",
    "sz_test = shenzhen_dataset(data_size=1000, data_mode='Test',verbose=False)"
   ]
  },
  {
   "cell_type": "code",
   "execution_count": 13,
   "metadata": {
    "ExecuteTime": {
     "end_time": "2023-07-18T20:04:43.539308700Z",
     "start_time": "2023-07-18T20:04:43.501195200Z"
    },
    "collapsed": false
   },
   "outputs": [
    {
     "data": {
      "text/plain": [
       "array([[-0.28975987, -0.54573868, -0.79847812, -0.82051059, -0.672393  ,\n",
       "        -0.50922418, -0.29416457, -1.4842214 , -0.93396129,  0.25792552,\n",
       "         1.04358658,  1.84173235,  1.95846491,  1.46980001,  0.3790472 ,\n",
       "         0.34038982,  1.28068165,  0.96147874,  0.47298199,  0.25501337,\n",
       "         0.00365564, -0.23475654, -0.30739614, -0.56773489, -0.64031517,\n",
       "        -0.30004019, -0.28095492, -0.36635316, -0.66279267, -0.81913482,\n",
       "        -0.21278066,  0.08050285,  0.8019193 ,  3.24156087,  2.37575625,\n",
       "         0.32624645, -0.27020435, -1.25249807, -0.88966756,  0.53767404,\n",
       "         0.70964721, -0.01770899, -0.63696455, -0.31736541, -0.47714565,\n",
       "        -0.98713441, -1.07392182, -1.12538865, -1.73164068, -0.91280479,\n",
       "         2.48524688,  3.17644494,  1.70787859, -0.23132433, -1.53259042,\n",
       "        -1.2313474 ,  0.05396385,  1.09870829,  0.90159483,  0.37934815,\n",
       "         0.1434018 , -0.1791352 , -0.26980644, -0.21075421, -0.14748875,\n",
       "        -0.46753141, -0.93301894, -0.93993183, -0.92440242, -0.26656278,\n",
       "         0.34000031, -0.00710031, -0.66646657, -0.67300788,  0.27548324,\n",
       "         0.50286914, -0.09602067,  0.39673157,  1.09570244, -0.19242184,\n",
       "        -0.31362235,  0.14411704,  0.42471171,  0.11323381, -0.27605071,\n",
       "        -0.36381256, -0.52621645, -0.82303478, -1.01115028, -1.11165527,\n",
       "        -1.07791932, -0.48272096,  0.3093336 ,  0.9081588 ,  1.3776442 ,\n",
       "         0.76200582,  0.69433444,  0.38887036,  0.18626824,  0.72858605,\n",
       "         1.36410486,  2.33040739,  1.1955735 ,  0.08054436, -0.26074408,\n",
       "        -0.87809196, -0.92815214, -0.99890467, -1.02662966, -0.68673021,\n",
       "        -0.21835704,  0.18117539,  0.04940125, -0.57671013, -1.0952279 ,\n",
       "        -0.93387762, -0.02343635, -0.12827924,  0.95631817,  0.69002163,\n",
       "        -0.01937121, -0.31243211, -0.27581264, -0.29187944, -0.3432694 ,\n",
       "        -0.56863841, -0.86520023, -1.01700218, -0.8208356 , -0.62270037,\n",
       "        -0.16925644, -0.55886288, -1.73312212,  1.43644931,  2.47853741,\n",
       "         0.55644065,  0.53187637,  0.15048808, -0.23606193, -0.00869584,\n",
       "         0.92422719,  2.33062371,  2.86063703,  1.65304429,  0.10666373,\n",
       "        -1.55023108, -2.22143213, -1.45697493, -0.45366668, -0.14040068]])"
      ]
     },
     "execution_count": 13,
     "metadata": {},
     "output_type": "execute_result"
    }
   ],
   "source": [
    "one = train_uni[-1][0]\n",
    "one[2]"
   ]
  },
  {
   "cell_type": "code",
   "execution_count": 11,
   "metadata": {
    "ExecuteTime": {
     "end_time": "2023-07-18T20:04:35.687022900Z",
     "start_time": "2023-07-18T20:04:35.664985400Z"
    },
    "collapsed": false
   },
   "outputs": [
    {
     "data": {
      "text/plain": [
       "array([[-0.83411095,  2.58605569, -0.29970992, -0.19282971, -0.46003023,\n",
       "        -0.0859495 , -0.32642997, -0.56691043,  2.90669631,  1.25005309,\n",
       "        -0.40659012, -0.83411095, -0.67379064,  0.50189164,  0.18125102,\n",
       "        -0.1393896 ,  0.23469112, -0.19282971, -0.67379064,  0.34157133,\n",
       "        -0.83411095, -0.67379064, -0.83411095, -0.64707059, -0.46003023,\n",
       "        -0.40659012, -0.0859495 , -0.78067085, -0.24626981, -0.51347033,\n",
       "         0.55533175,  3.01357652, -0.62035054,  1.99821455,  1.91805439,\n",
       "         1.83789424, -0.83411095,  0.34157133, -0.0325094 , -0.72723075,\n",
       "        -0.72723075, -0.19282971, -0.40659012, -0.83411095,  1.3569333 ,\n",
       "        -0.83411095, -0.83411095,  1.08973278,  1.83789424, -0.83411095,\n",
       "        -0.46003023, -0.35315002, -0.19282971, -0.67379064,  0.02093071,\n",
       "        -0.67379064,  0.82253226, -0.83411095, -0.83411095, -0.72723075]])"
      ]
     },
     "execution_count": 11,
     "metadata": {},
     "output_type": "execute_result"
    }
   ],
   "source": [
    "two = sz_train[-1][0]\n",
    "two[10]"
   ]
  },
  {
   "cell_type": "code",
   "execution_count": 15,
   "metadata": {
    "ExecuteTime": {
     "end_time": "2023-07-19T07:47:57.141440700Z",
     "start_time": "2023-07-19T07:47:56.302742800Z"
    },
    "collapsed": false
   },
   "outputs": [
    {
     "name": "stdout",
     "output_type": "stream",
     "text": [
      "data shape is (1200, 3, 1, 150), label shape is (1200, 1)\n",
      "Jumping label is 1, has 600 samples, Running label is 0, has 600 samples\n"
     ]
    }
   ],
   "source": [
    "from LoadRealRunningJumping import Running_Or_Jumping\n",
    "running = Running_Or_Jumping(incl_xyz_accel = True, incl_rms_accel = False, is_normalize = True, data_mode = 'Train')"
   ]
  },
  {
   "cell_type": "code",
   "execution_count": 24,
   "metadata": {
    "ExecuteTime": {
     "end_time": "2023-07-19T07:49:26.995104100Z",
     "start_time": "2023-07-19T07:49:26.966145400Z"
    },
    "collapsed": false
   },
   "outputs": [
    {
     "data": {
      "text/plain": [
       "array([1.])"
      ]
     },
     "execution_count": 24,
     "metadata": {},
     "output_type": "execute_result"
    }
   ],
   "source": [
    "running[599][1]"
   ]
  }
 ],
 "metadata": {
  "kernelspec": {
   "display_name": "Python 3",
   "language": "python",
   "name": "python3"
  },
  "language_info": {
   "codemirror_mode": {
    "name": "ipython",
    "version": 2
   },
   "file_extension": ".py",
   "mimetype": "text/x-python",
   "name": "python",
   "nbconvert_exporter": "python",
   "pygments_lexer": "ipython2",
   "version": "2.7.6"
  }
 },
 "nbformat": 4,
 "nbformat_minor": 0
}
